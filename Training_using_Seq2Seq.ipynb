{
 "cells": [
  {
   "cell_type": "code",
   "execution_count": 2,
   "metadata": {
    "id": "GV4xJKb7djSU"
   },
   "outputs": [],
   "source": [
    "import tensorflow as tf\n",
    "gpus = tf.config.experimental.list_physical_devices('GPU')\n",
    "if gpus:\n",
    "  try:\n",
    "    for gpu in gpus:\n",
    "      tf.config.experimental.set_memory_growth(gpu, True)\n",
    "  except RuntimeError as e:\n",
    "    print(e)"
   ]
  },
  {
   "cell_type": "markdown",
   "metadata": {
    "id": "ojNabu-edjSZ"
   },
   "source": [
    "### Loading Data"
   ]
  },
  {
   "cell_type": "code",
   "execution_count": 3,
   "metadata": {
    "id": "nLH0UOfEdjSa"
   },
   "outputs": [],
   "source": [
    "import numpy as np"
   ]
  },
  {
   "cell_type": "code",
   "execution_count": 4,
   "metadata": {
    "id": "z4WkOxjBdjSd"
   },
   "outputs": [],
   "source": [
    "english = np.load(\"/content/drive/My Drive/Colab Notebooks/English_text.npy\")\n",
    "hindi   = np.load(\"/content/drive/My Drive/Colab Notebooks/Hindi_text.npy\")"
   ]
  },
  {
   "cell_type": "code",
   "execution_count": 5,
   "metadata": {
    "colab": {
     "base_uri": "https://localhost:8080/",
     "height": 51
    },
    "id": "8wNZkqLBdjSh",
    "outputId": "51efaa66-f958-4ce4-9b35-84d79df928c7"
   },
   "outputs": [
    {
     "name": "stdout",
     "output_type": "stream",
     "text": [
      "wow\n",
      "वाह\n"
     ]
    }
   ],
   "source": [
    "print (english[0])\n",
    "print (hindi[0])"
   ]
  },
  {
   "cell_type": "markdown",
   "metadata": {
    "id": "LpoVV0-XdjSl"
   },
   "source": [
    "### Defining Encoder and Decoder inputs/Outpus"
   ]
  },
  {
   "cell_type": "code",
   "execution_count": 6,
   "metadata": {
    "id": "ay8YNCV6djSm"
   },
   "outputs": [],
   "source": [
    "input_sentences = []\n",
    "for i in range(len(english)):\n",
    "    input_sentences.append(english[i])"
   ]
  },
  {
   "cell_type": "code",
   "execution_count": 7,
   "metadata": {
    "id": "OazpI7IAdjSq"
   },
   "outputs": [],
   "source": [
    "output_sentences_inputs = []\n",
    "for i in range(len(hindi)):\n",
    "    temp = hindi[i]\n",
    "    temp = '<sos> ' + temp\n",
    "    output_sentences_inputs.append(temp)"
   ]
  },
  {
   "cell_type": "code",
   "execution_count": 8,
   "metadata": {
    "id": "OtkCFXE7djSu"
   },
   "outputs": [],
   "source": [
    "output_sentences = []\n",
    "for i in range(len(hindi)):\n",
    "    temp = hindi[i]\n",
    "    temp = temp + ' <eos>'\n",
    "    output_sentences.append(temp)"
   ]
  },
  {
   "cell_type": "markdown",
   "metadata": {
    "id": "nxKr1M1zdjSy"
   },
   "source": [
    "### Tokenizing"
   ]
  },
  {
   "cell_type": "code",
   "execution_count": 9,
   "metadata": {
    "id": "nJ9sPj7_djSz"
   },
   "outputs": [],
   "source": [
    "from keras.preprocessing.text import Tokenizer"
   ]
  },
  {
   "cell_type": "code",
   "execution_count": 10,
   "metadata": {
    "id": "172Ui5RpdjS2"
   },
   "outputs": [],
   "source": [
    "# Tokenizing Engish Text\n",
    "tokenizer_encoder = Tokenizer(filters = '')\n",
    "tokenizer_encoder.fit_on_texts(english)\n",
    "Encoder_input = tokenizer_encoder.texts_to_sequences(english)"
   ]
  },
  {
   "cell_type": "code",
   "execution_count": 11,
   "metadata": {
    "id": "Y5U5InYNdjS5"
   },
   "outputs": [],
   "source": [
    "# Tokenizing Hindi_input Text\n",
    "tokenizer_decoder = Tokenizer(filters = '')\n",
    "tokenizer_decoder.fit_on_texts(output_sentences_inputs+output_sentences)\n",
    "Decoder_input = tokenizer_decoder.texts_to_sequences(output_sentences_inputs)"
   ]
  },
  {
   "cell_type": "code",
   "execution_count": 12,
   "metadata": {
    "id": "ErjX55OYdjS-"
   },
   "outputs": [],
   "source": [
    "# Tokenizing Hindi_output Text\n",
    "Decoder_output = tokenizer_decoder.texts_to_sequences(output_sentences)"
   ]
  },
  {
   "cell_type": "code",
   "execution_count": 13,
   "metadata": {
    "colab": {
     "base_uri": "https://localhost:8080/",
     "height": 34
    },
    "id": "E3ghNz21djTB",
    "outputId": "166704ec-b9ff-41f6-84a3-2c4e5a6e5b31"
   },
   "outputs": [
    {
     "name": "stdout",
     "output_type": "stream",
     "text": [
      "Number of words in Output is:  2969\n"
     ]
    }
   ],
   "source": [
    "word2idx_outputs = tokenizer_decoder.word_index\n",
    "num_words_output = len(word2idx_outputs) + 1\n",
    "print (\"Number of words in Output is: \", num_words_output)"
   ]
  },
  {
   "cell_type": "markdown",
   "metadata": {
    "id": "rd34haC9djTF"
   },
   "source": [
    "### Padding"
   ]
  },
  {
   "cell_type": "code",
   "execution_count": 14,
   "metadata": {
    "id": "zJOuRp__djTF"
   },
   "outputs": [],
   "source": [
    "from keras.preprocessing.sequence import pad_sequences"
   ]
  },
  {
   "cell_type": "code",
   "execution_count": 15,
   "metadata": {
    "colab": {
     "base_uri": "https://localhost:8080/",
     "height": 34
    },
    "id": "bl157QrFdjTJ",
    "outputId": "08fa06fe-7620-4962-e465-4656694baced"
   },
   "outputs": [
    {
     "name": "stdout",
     "output_type": "stream",
     "text": [
      "Encoder_data.shape: (2773, 23)\n"
     ]
    }
   ],
   "source": [
    "English = pad_sequences(Encoder_input, padding ='post')\n",
    "print(\"Encoder_data.shape:\", English.shape)"
   ]
  },
  {
   "cell_type": "code",
   "execution_count": 16,
   "metadata": {
    "colab": {
     "base_uri": "https://localhost:8080/",
     "height": 34
    },
    "id": "NdXwVfG6djTM",
    "outputId": "a26099ef-b873-4833-b6df-a36679f65cad"
   },
   "outputs": [
    {
     "name": "stdout",
     "output_type": "stream",
     "text": [
      "Decoder_data.shape: (2773, 26)\n"
     ]
    }
   ],
   "source": [
    "Hindi_input = pad_sequences(Decoder_input, padding ='post')\n",
    "print(\"Decoder_data.shape:\", Hindi_input.shape)"
   ]
  },
  {
   "cell_type": "code",
   "execution_count": 17,
   "metadata": {
    "colab": {
     "base_uri": "https://localhost:8080/",
     "height": 34
    },
    "id": "W3ZUBE-vdjTP",
    "outputId": "103c3317-3b5f-4155-c8d3-da2436b33b11"
   },
   "outputs": [
    {
     "name": "stdout",
     "output_type": "stream",
     "text": [
      "Decoder_data.shape: (2773, 26)\n"
     ]
    }
   ],
   "source": [
    "Hindi_output = pad_sequences(Decoder_output, padding ='post')\n",
    "print(\"Decoder_data.shape:\", Hindi_output.shape)"
   ]
  },
  {
   "cell_type": "code",
   "execution_count": 18,
   "metadata": {
    "id": "aQO5WwfwdjTS"
   },
   "outputs": [],
   "source": [
    "max_len_input = 23\n",
    "max_len_output = 26"
   ]
  },
  {
   "cell_type": "markdown",
   "metadata": {
    "id": "1tIDEYezdjTV"
   },
   "source": [
    "### Loading Pre-trained word vectors"
   ]
  },
  {
   "cell_type": "code",
   "execution_count": 19,
   "metadata": {
    "id": "d7ntgtQHdjTW"
   },
   "outputs": [],
   "source": [
    "import numpy as np"
   ]
  },
  {
   "cell_type": "code",
   "execution_count": 22,
   "metadata": {
    "id": "MN1fPxjydjTZ"
   },
   "outputs": [],
   "source": [
    "word2vec = {}                                                     # Dictionary for word 2 vector mapping\n",
    "with open('/content/drive/My Drive/Colab Notebooks/glove.6B.50d.txt') as f:\n",
    "    for line in f:\n",
    "        values = line.split()                                     # Reading Line\n",
    "        word = values[0]                                          # First part of line is word\n",
    "        vec = np.asarray(values[1:], dtype='float32')             # Second part of line is Vector\n",
    "        word2vec[word] = vec                                      # Creating dictionary\n"
   ]
  },
  {
   "cell_type": "markdown",
   "metadata": {
    "id": "Xr-vGz0NdjTc"
   },
   "source": [
    "### Preparing Embedding Matrix"
   ]
  },
  {
   "cell_type": "code",
   "execution_count": 23,
   "metadata": {
    "id": "x1n4IC7qdjTd"
   },
   "outputs": [],
   "source": [
    "word2idx_inputs = tokenizer_encoder.word_index\n",
    "num_words = len(word2idx_inputs) + 1                         \n",
    "embedding_matrix = np.zeros((num_words, 50))\n",
    "for word, i in word2idx_inputs.items():\n",
    "    embedding_vector = word2vec.get(word)\n",
    "    if embedding_vector is not None:\n",
    "      # words not found in embedding index will be all zeros.\n",
    "      embedding_matrix[i] = embedding_vector"
   ]
  },
  {
   "cell_type": "code",
   "execution_count": 24,
   "metadata": {
    "colab": {
     "base_uri": "https://localhost:8080/",
     "height": 34
    },
    "id": "djnf2n-CdjTh",
    "outputId": "cff26ce6-9c19-4fa5-a883-56f083d53f72"
   },
   "outputs": [
    {
     "data": {
      "text/plain": [
       "(2305, 50)"
      ]
     },
     "execution_count": 24,
     "metadata": {
      "tags": []
     },
     "output_type": "execute_result"
    }
   ],
   "source": [
    "embedding_matrix.shape"
   ]
  },
  {
   "cell_type": "markdown",
   "metadata": {
    "id": "llM7pbeQdjTk"
   },
   "source": [
    "### Creating Embedding Layer"
   ]
  },
  {
   "cell_type": "code",
   "execution_count": 25,
   "metadata": {
    "id": "qIOFEfr2djTl"
   },
   "outputs": [],
   "source": [
    "from keras.layers import Embedding"
   ]
  },
  {
   "cell_type": "code",
   "execution_count": 26,
   "metadata": {
    "id": "tdgjCrbFdjTo"
   },
   "outputs": [],
   "source": [
    "embedding_layer = Embedding(num_words, \n",
    "                            50, \n",
    "                            weights=[embedding_matrix], \n",
    "                            input_length=max_len_input)"
   ]
  },
  {
   "cell_type": "markdown",
   "metadata": {
    "id": "7mSt6qppdjTr"
   },
   "source": [
    "### Making Decoder Targets"
   ]
  },
  {
   "cell_type": "code",
   "execution_count": 27,
   "metadata": {
    "id": "FVYbAeAfdjTr"
   },
   "outputs": [],
   "source": [
    "decoder_targets_one_hot = np.zeros((\n",
    "                                    len(input_sentences),\n",
    "                                    max_len_output,\n",
    "                                    num_words_output\n",
    "                                    ),\n",
    "                                    dtype = 'float32')"
   ]
  },
  {
   "cell_type": "code",
   "execution_count": 28,
   "metadata": {
    "colab": {
     "base_uri": "https://localhost:8080/",
     "height": 34
    },
    "id": "KkfR8OwudjTw",
    "outputId": "3213bb7b-805e-441a-ec13-5855f3345ed4"
   },
   "outputs": [
    {
     "data": {
      "text/plain": [
       "(2773, 26, 2969)"
      ]
     },
     "execution_count": 28,
     "metadata": {
      "tags": []
     },
     "output_type": "execute_result"
    }
   ],
   "source": [
    "decoder_targets_one_hot.shape"
   ]
  },
  {
   "cell_type": "code",
   "execution_count": 29,
   "metadata": {
    "id": "NTO5AeiZdjT0"
   },
   "outputs": [],
   "source": [
    "# Inserting values in Targets\n",
    "for i, d in enumerate(Hindi_output):\n",
    "    for t, word in enumerate(d):\n",
    "        decoder_targets_one_hot[i, t, word] = 1"
   ]
  },
  {
   "cell_type": "markdown",
   "metadata": {
    "id": "yk3BnfRldjT3"
   },
   "source": [
    "### Building Model"
   ]
  },
  {
   "cell_type": "code",
   "execution_count": 30,
   "metadata": {
    "id": "3pN9qHgDdjT3"
   },
   "outputs": [],
   "source": [
    "from keras.layers import Input, LSTM, Bidirectional, Dense"
   ]
  },
  {
   "cell_type": "markdown",
   "metadata": {
    "id": "Y38gtEIxdjT6"
   },
   "source": [
    "#### Building Encoder"
   ]
  },
  {
   "cell_type": "code",
   "execution_count": 31,
   "metadata": {
    "id": "X4AmuQpzdjT7"
   },
   "outputs": [],
   "source": [
    "# Input Layer\n",
    "encoder_inputs_placeholder = Input(shape=(max_len_input,))\n",
    "# Embedding Layer\n",
    "x = embedding_layer(encoder_inputs_placeholder)\n",
    "# LSTM Layer\n",
    "encoder = LSTM(512, return_state=True)\n",
    "encoder_outputs, h, c = encoder(x)\n",
    "# Encoder Output Layer\n",
    "encoder_states = [h, c]"
   ]
  },
  {
   "cell_type": "markdown",
   "metadata": {
    "id": "V0twB6B5djT9"
   },
   "source": [
    "#### Building Decoder"
   ]
  },
  {
   "cell_type": "code",
   "execution_count": 32,
   "metadata": {
    "id": "_VPS-A4MdjT-"
   },
   "outputs": [],
   "source": [
    "# Input layer\n",
    "decoder_inputs_placeholder = Input(shape=(max_len_output,))\n",
    "# Embedding Layer\n",
    "decoder_embedding = Embedding(num_words_output, 50)                   # Creating\n",
    "decoder_inputs_x = decoder_embedding(decoder_inputs_placeholder)      # Passing\n",
    "# LSTM Layer\n",
    "decoder_lstm = LSTM(512,return_sequences=True,return_state=True,)\n",
    "decoder_outputs, _, _ = decoder_lstm(decoder_inputs_x,initial_state=encoder_states)\n",
    "# Hidden Layer\n",
    "decoder_dense = Dense(num_words_output, activation='softmax')\n",
    "# Decoder Output Layer\n",
    "decoder_outputs = decoder_dense(decoder_outputs)"
   ]
  },
  {
   "cell_type": "markdown",
   "metadata": {
    "id": "fk6TvNdHdjUC"
   },
   "source": [
    "#### Defining Model"
   ]
  },
  {
   "cell_type": "code",
   "execution_count": 33,
   "metadata": {
    "id": "vEuUNcukdjUF"
   },
   "outputs": [],
   "source": [
    "from keras.models import Model"
   ]
  },
  {
   "cell_type": "code",
   "execution_count": 34,
   "metadata": {
    "id": "bwGP7WTVdjUH"
   },
   "outputs": [],
   "source": [
    "model = Model([encoder_inputs_placeholder,decoder_inputs_placeholder],   # Inputs\n",
    "              decoder_outputs)                                           # Outputs"
   ]
  },
  {
   "cell_type": "markdown",
   "metadata": {
    "id": "OxS7Si-jdjUK"
   },
   "source": [
    "### Compiling Model"
   ]
  },
  {
   "cell_type": "code",
   "execution_count": 35,
   "metadata": {
    "id": "a5ZgiFagdjUL"
   },
   "outputs": [],
   "source": [
    "model.compile(\n",
    "    optimizer='rmsprop',\n",
    "    loss='categorical_crossentropy',\n",
    "    metrics=['accuracy']\n",
    ")"
   ]
  },
  {
   "cell_type": "markdown",
   "metadata": {
    "id": "OQAJLR8qdjUN"
   },
   "source": [
    "### Training Model"
   ]
  },
  {
   "cell_type": "code",
   "execution_count": 36,
   "metadata": {
    "colab": {
     "base_uri": "https://localhost:8080/",
     "height": 1000
    },
    "id": "YY22D4RMdjUO",
    "outputId": "42284067-95a0-4982-a507-dec1cc957e63"
   },
   "outputs": [
    {
     "name": "stdout",
     "output_type": "stream",
     "text": [
      "Epoch 1/30\n",
      "125/125 [==============================] - 3s 25ms/step - loss: 1.9100 - accuracy: 0.7255 - val_loss: 3.1045 - val_accuracy: 0.5451\n",
      "Epoch 2/30\n",
      "125/125 [==============================] - 2s 20ms/step - loss: 1.5657 - accuracy: 0.7603 - val_loss: 2.9716 - val_accuracy: 0.5844\n",
      "Epoch 3/30\n",
      "125/125 [==============================] - 2s 20ms/step - loss: 1.4744 - accuracy: 0.7683 - val_loss: 2.8730 - val_accuracy: 0.5924\n",
      "Epoch 4/30\n",
      "125/125 [==============================] - 2s 20ms/step - loss: 1.4105 - accuracy: 0.7743 - val_loss: 2.7902 - val_accuracy: 0.5975\n",
      "Epoch 5/30\n",
      "125/125 [==============================] - 2s 20ms/step - loss: 1.3474 - accuracy: 0.7804 - val_loss: 2.8000 - val_accuracy: 0.5989\n",
      "Epoch 6/30\n",
      "125/125 [==============================] - 2s 20ms/step - loss: 1.2898 - accuracy: 0.7849 - val_loss: 2.7510 - val_accuracy: 0.6064\n",
      "Epoch 7/30\n",
      "125/125 [==============================] - 3s 20ms/step - loss: 1.2346 - accuracy: 0.7900 - val_loss: 2.7506 - val_accuracy: 0.6040\n",
      "Epoch 8/30\n",
      "125/125 [==============================] - 2s 20ms/step - loss: 1.1816 - accuracy: 0.7949 - val_loss: 2.7552 - val_accuracy: 0.6103\n",
      "Epoch 9/30\n",
      "125/125 [==============================] - 2s 20ms/step - loss: 1.1273 - accuracy: 0.7999 - val_loss: 2.7617 - val_accuracy: 0.6104\n",
      "Epoch 10/30\n",
      "125/125 [==============================] - 2s 20ms/step - loss: 1.0687 - accuracy: 0.8071 - val_loss: 2.7517 - val_accuracy: 0.6129\n",
      "Epoch 11/30\n",
      "125/125 [==============================] - 2s 20ms/step - loss: 1.0107 - accuracy: 0.8131 - val_loss: 2.7677 - val_accuracy: 0.6126\n",
      "Epoch 12/30\n",
      "125/125 [==============================] - 3s 20ms/step - loss: 0.9538 - accuracy: 0.8206 - val_loss: 2.7667 - val_accuracy: 0.6170\n",
      "Epoch 13/30\n",
      "125/125 [==============================] - 2s 20ms/step - loss: 0.8966 - accuracy: 0.8283 - val_loss: 2.7727 - val_accuracy: 0.6180\n",
      "Epoch 14/30\n",
      "125/125 [==============================] - 2s 20ms/step - loss: 0.8402 - accuracy: 0.8366 - val_loss: 2.7750 - val_accuracy: 0.6183\n",
      "Epoch 15/30\n",
      "125/125 [==============================] - 3s 20ms/step - loss: 0.7846 - accuracy: 0.8468 - val_loss: 2.7896 - val_accuracy: 0.6164\n",
      "Epoch 16/30\n",
      "125/125 [==============================] - 2s 20ms/step - loss: 0.7284 - accuracy: 0.8559 - val_loss: 2.8204 - val_accuracy: 0.6172\n",
      "Epoch 17/30\n",
      "125/125 [==============================] - 2s 20ms/step - loss: 0.6749 - accuracy: 0.8654 - val_loss: 2.8334 - val_accuracy: 0.6182\n",
      "Epoch 18/30\n",
      "125/125 [==============================] - 3s 20ms/step - loss: 0.6227 - accuracy: 0.8755 - val_loss: 2.8642 - val_accuracy: 0.6177\n",
      "Epoch 19/30\n",
      "125/125 [==============================] - 3s 20ms/step - loss: 0.5712 - accuracy: 0.8868 - val_loss: 2.8741 - val_accuracy: 0.6170\n",
      "Epoch 20/30\n",
      "125/125 [==============================] - 3s 20ms/step - loss: 0.5223 - accuracy: 0.8980 - val_loss: 2.8831 - val_accuracy: 0.6184\n",
      "Epoch 21/30\n",
      "125/125 [==============================] - 3s 20ms/step - loss: 0.4760 - accuracy: 0.9072 - val_loss: 2.9085 - val_accuracy: 0.6198\n",
      "Epoch 22/30\n",
      "125/125 [==============================] - 3s 20ms/step - loss: 0.4308 - accuracy: 0.9177 - val_loss: 2.9693 - val_accuracy: 0.6172\n",
      "Epoch 23/30\n",
      "125/125 [==============================] - 3s 20ms/step - loss: 0.3873 - accuracy: 0.9273 - val_loss: 2.9484 - val_accuracy: 0.6202\n",
      "Epoch 24/30\n",
      "125/125 [==============================] - 3s 20ms/step - loss: 0.3489 - accuracy: 0.9359 - val_loss: 2.9846 - val_accuracy: 0.6182\n",
      "Epoch 25/30\n",
      "125/125 [==============================] - 3s 20ms/step - loss: 0.3122 - accuracy: 0.9435 - val_loss: 3.0041 - val_accuracy: 0.6159\n",
      "Epoch 26/30\n",
      "125/125 [==============================] - 3s 20ms/step - loss: 0.2794 - accuracy: 0.9512 - val_loss: 3.0279 - val_accuracy: 0.6168\n",
      "Epoch 27/30\n",
      "125/125 [==============================] - 3s 20ms/step - loss: 0.2488 - accuracy: 0.9578 - val_loss: 3.0571 - val_accuracy: 0.6170\n",
      "Epoch 28/30\n",
      "125/125 [==============================] - 3s 20ms/step - loss: 0.2237 - accuracy: 0.9623 - val_loss: 3.0373 - val_accuracy: 0.6172\n",
      "Epoch 29/30\n",
      "125/125 [==============================] - 3s 20ms/step - loss: 0.1975 - accuracy: 0.9676 - val_loss: 3.0873 - val_accuracy: 0.6187\n",
      "Epoch 30/30\n",
      "125/125 [==============================] - 3s 21ms/step - loss: 0.1761 - accuracy: 0.9724 - val_loss: 3.1256 - val_accuracy: 0.6158\n"
     ]
    }
   ],
   "source": [
    "r = model.fit(\n",
    "    [English, Hindi_input],\n",
    "    decoder_targets_one_hot,\n",
    "    batch_size=20,\n",
    "    epochs=30,\n",
    "    validation_split=0.1,\n",
    ")"
   ]
  },
  {
   "cell_type": "markdown",
   "metadata": {
    "id": "fwrp7DvkdjUR"
   },
   "source": [
    "### Visualizing Results"
   ]
  },
  {
   "cell_type": "code",
   "execution_count": 38,
   "metadata": {
    "id": "Htfb-dIifASe"
   },
   "outputs": [],
   "source": [
    "import matplotlib.pyplot as plt\n"
   ]
  },
  {
   "cell_type": "code",
   "execution_count": 39,
   "metadata": {
    "colab": {
     "base_uri": "https://localhost:8080/",
     "height": 265
    },
    "id": "QmWjw_yEdjUS",
    "outputId": "ce3cc854-b2b8-44b7-b51a-0c87745be5a2"
   },
   "outputs": [
    {
     "data": {
      "image/png": "[encoded data removed]",
      "text/plain": [
       "<Figure size 432x288 with 1 Axes>"
      ]
     },
     "metadata": {
      "needs_background": "light",
      "tags": []
     },
     "output_type": "display_data"
    }
   ],
   "source": [
    "# Loss\n",
    "plt.plot(r.history['loss'], label='loss')\n",
    "plt.plot(r.history['val_loss'], label='val_loss')\n",
    "plt.legend()\n",
    "plt.savefig('Loss.png')\n",
    "plt.show()"
   ]
  },
  {
   "cell_type": "code",
   "execution_count": 40,
   "metadata": {
    "colab": {
     "base_uri": "https://localhost:8080/",
     "height": 265
    },
    "id": "0dciFJeEdjUV",
    "outputId": "453a90c1-bf55-4e3e-a7e5-d290c4fe624f"
   },
   "outputs": [
    {
     "data": {
      "image/png": "[encoded data removed]",
      "text/plain": [
       "<Figure size 432x288 with 1 Axes>"
      ]
     },
     "metadata": {
      "needs_background": "light",
      "tags": []
     },
     "output_type": "display_data"
    }
   ],
   "source": [
    "# Accuracy\n",
    "plt.plot(r.history['accuracy'], label='acc')\n",
    "plt.plot(r.history['val_accuracy'], label='val_acc')\n",
    "plt.legend()\n",
    "plt.savefig('Accuracy.png')\n",
    "plt.show()"
   ]
  },
  {
   "cell_type": "markdown",
   "metadata": {
    "id": "cIlV-TeldjUY"
   },
   "source": [
    "### Saving the Model"
   ]
  },
  {
   "cell_type": "code",
   "execution_count": 41,
   "metadata": {
    "id": "jSLb8laudjUY"
   },
   "outputs": [],
   "source": [
    "model.save('Machine_Translation_using_Seq2Seq.h5')"
   ]
  },
  {
   "cell_type": "markdown",
   "metadata": {
    "id": "R6nDrNpCdjUb"
   },
   "source": [
    "### Building Model for Prediction"
   ]
  },
  {
   "cell_type": "markdown",
   "metadata": {
    "id": "hm-pN2LfdjUb"
   },
   "source": [
    "#### Encoder Model"
   ]
  },
  {
   "cell_type": "code",
   "execution_count": 42,
   "metadata": {
    "id": "vruXmH9UdjUc"
   },
   "outputs": [],
   "source": [
    "encoder_model = Model(encoder_inputs_placeholder, encoder_states)"
   ]
  },
  {
   "cell_type": "markdown",
   "metadata": {
    "id": "FiKAv6DXdjUf"
   },
   "source": [
    "#### Decoder Model"
   ]
  },
  {
   "cell_type": "code",
   "execution_count": 43,
   "metadata": {
    "id": "KZm6C5B0djUh"
   },
   "outputs": [],
   "source": [
    "# Input Layer\n",
    "decoder_state_input_h = Input(shape=(512,))\n",
    "decoder_state_input_c = Input(shape=(512,))\n",
    "decoder_states_inputs = [decoder_state_input_h, decoder_state_input_c]\n",
    "# Input Layer for single work\n",
    "decoder_inputs_single = Input(shape=(1,))\n",
    "# Embedding Layer\n",
    "decoder_inputs_single_x = decoder_embedding(decoder_inputs_single)\n",
    "# LSTM Layer\n",
    "decoder_outputs, h, c = decoder_lstm(decoder_inputs_single_x, initial_state=decoder_states_inputs)\n",
    "decoder_states = [h, c]\n",
    "# Output Layer\n",
    "decoder_outputs = decoder_dense(decoder_outputs)"
   ]
  },
  {
   "cell_type": "markdown",
   "metadata": {
    "id": "oq3ieucndjUk"
   },
   "source": [
    "### Defining Model"
   ]
  },
  {
   "cell_type": "code",
   "execution_count": 44,
   "metadata": {
    "id": "1apm-DBcdjUl"
   },
   "outputs": [],
   "source": [
    "decoder_model = Model([decoder_inputs_single] + decoder_states_inputs,\n",
    "                      [decoder_outputs] + decoder_states)"
   ]
  },
  {
   "cell_type": "markdown",
   "metadata": {
    "id": "x-VjHIZIdjUp"
   },
   "source": [
    "### Vector -> Word"
   ]
  },
  {
   "cell_type": "code",
   "execution_count": 45,
   "metadata": {
    "id": "fPMJB3DRdjUq"
   },
   "outputs": [],
   "source": [
    "idx2word_input = {v:k for k, v in word2idx_inputs.items()}\n",
    "idx2word_target = {v:k for k, v in word2idx_outputs.items()}"
   ]
  },
  {
   "cell_type": "markdown",
   "metadata": {
    "id": "aynHbz14djUs"
   },
   "source": [
    "### Prediction Function"
   ]
  },
  {
   "cell_type": "code",
   "execution_count": 52,
   "metadata": {
    "id": "3l3GNR3rdjUt"
   },
   "outputs": [],
   "source": [
    "def translate_sentence(input_seq):\n",
    "    # Encoder Prediction\n",
    "    states_value = encoder_model.predict(input_seq)\n",
    "    # Starting of Target Sentence\n",
    "    target_seq = np.zeros((1, 1))\n",
    "    target_seq[0, 0] = word2idx_outputs['<sos>']\n",
    "    eos = word2idx_outputs['<eos>']\n",
    "    # Target Sentence\n",
    "    output_sentence = []\n",
    "\n",
    "    # Loop for detecting words\n",
    "    for _ in range(max_len_output):\n",
    "        output_tokens, h, c = decoder_model.predict([target_seq] + states_value)\n",
    "        idx = np.argmax(output_tokens[0, 0, :])\n",
    "        \n",
    "        # Break when target sentence finished\n",
    "        if eos == idx:\n",
    "            break\n",
    "\n",
    "        word = ''\n",
    "        \n",
    "        # Adding Word to the prediction sentence\n",
    "        if idx > 0:\n",
    "            word = idx2word_target[idx]\n",
    "            output_sentence.append(word)\n",
    "        \n",
    "        # States for next word\n",
    "        target_seq[0, 0] = idx\n",
    "        states_value = [h, c]\n",
    "\n",
    "    return ' '.join(output_sentence)"
   ]
  },
  {
   "cell_type": "markdown",
   "metadata": {
    "id": "zjV2sQRxdjUx"
   },
   "source": [
    "### Translation"
   ]
  },
  {
   "cell_type": "code",
   "execution_count": 56,
   "metadata": {
    "colab": {
     "base_uri": "https://localhost:8080/",
     "height": 357
    },
    "id": "Cd4r7F5wdjUx",
    "outputId": "19978dcf-81be-44e5-e8d7-bfd9a0dfea0e"
   },
   "outputs": [
    {
     "name": "stdout",
     "output_type": "stream",
     "text": [
      "-\n",
      "Input: i did not want this to happen\n",
      "Translation: मैं नहीं चाहता था कि ऐसा हो।\n",
      "Continue? [Y/n]y\n",
      "-\n",
      "Input: a rabbit has long ears\n",
      "Translation: खरगोश के कान लम्बे होते हैं।\n",
      "Continue? [Y/n]y\n",
      "-\n",
      "Input: i was amazed at the speed of the car\n",
      "Translation: मैं उस गाड़ी की रफ़तार देखकर हैरान रह गया।\n",
      "Continue? [Y/n]y\n",
      "-\n",
      "Input: come along with us\n",
      "Translation: हमारे साथ आओ।\n",
      "Continue? [Y/n]y\n",
      "-\n",
      "Input: he went there instead of me\n",
      "Translation: वह मेरे बजाय गया।\n",
      "Continue? [Y/n]n\n"
     ]
    }
   ],
   "source": [
    "while True:\n",
    "  # Do some test translations\n",
    "  i = np.random.choice(len(English))\n",
    "  input_seq = English[i:i+1]\n",
    "  translation = translate_sentence(input_seq)\n",
    "  print('-')\n",
    "  print('Input:', english[i])\n",
    "  print('Translation:', translation)\n",
    "\n",
    "  ans = input(\"Continue? [Y/n]\")\n",
    "  if ans and ans.lower().startswith('n'):\n",
    "    break"
   ]
  }
 ],
 "metadata": {
  "accelerator": "GPU",
  "colab": {
   "name": "Training using Seq2Seq.ipynb",
   "provenance": []
  },
  "kernelspec": {
   "display_name": "Python 3",
   "language": "python",
   "name": "python3"
  },
  "language_info": {
   "codemirror_mode": {
    "name": "ipython",
    "version": 3
   },
   "file_extension": ".py",
   "mimetype": "text/x-python",
   "name": "python",
   "nbconvert_exporter": "python",
   "pygments_lexer": "ipython3",
   "version": "3.8.5"
  }
 },
 "nbformat": 4,
 "nbformat_minor": 1
}
